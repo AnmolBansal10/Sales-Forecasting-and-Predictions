{
  "nbformat": 4,
  "nbformat_minor": 0,
  "metadata": {
    "colab": {
      "provenance": [],
      "authorship_tag": "ABX9TyN0GE50HL/lWrtIhtOCPzd4",
      "include_colab_link": true
    },
    "kernelspec": {
      "name": "python3",
      "display_name": "Python 3"
    },
    "language_info": {
      "name": "python"
    }
  },
  "cells": [
    {
      "cell_type": "markdown",
      "metadata": {
        "id": "view-in-github",
        "colab_type": "text"
      },
      "source": [
        "<a href=\"https://colab.research.google.com/github/AnmolBansal10/Sales-Forecasting-and-Predictions/blob/main/sales_forecast_RandomForestRegressor_model.ipynb\" target=\"_parent\"><img src=\"https://colab.research.google.com/assets/colab-badge.svg\" alt=\"Open In Colab\"/></a>"
      ]
    },
    {
      "cell_type": "code",
      "execution_count": 4,
      "metadata": {
        "id": "0GA7BuWPvN1z"
      },
      "outputs": [],
      "source": [
        "import numpy as np\n",
        "import pandas as pd\n",
        "from sklearn.preprocessing import MinMaxScaler\n",
        "from sklearn.ensemble import RandomForestRegressor\n",
        "from sklearn.metrics import mean_squared_error, mean_absolute_error, r2_score\n",
        "import matplotlib.pyplot as plt"
      ]
    },
    {
      "cell_type": "code",
      "source": [
        "data = pd.read_csv('train.csv', parse_dates=['date'])\n",
        "data.set_index('date', inplace=True)"
      ],
      "metadata": {
        "id": "zDhXCSb6vdRB"
      },
      "execution_count": 5,
      "outputs": []
    },
    {
      "cell_type": "code",
      "source": [
        "# Feature Engineering: Creating a supervised learning problem\n",
        "data['sales_diff'] = data['sales'].diff()\n",
        "data.dropna(inplace=True)"
      ],
      "metadata": {
        "id": "i7HkNIrLvff5"
      },
      "execution_count": 6,
      "outputs": []
    },
    {
      "cell_type": "code",
      "source": [
        "def create_supervised(data, lag=1):\n",
        "    df = pd.DataFrame(data)\n",
        "    columns = [df.shift(i) for i in range(1, lag+1)]\n",
        "    columns.append(df)\n",
        "    df = pd.concat(columns, axis=1)\n",
        "    df.fillna(0, inplace=True)\n",
        "    return df\n",
        "\n",
        "# Creating supervised data for the last 24 months\n",
        "supervised_data = create_supervised(data['sales_diff'], 12)"
      ],
      "metadata": {
        "id": "HOm1j6VAvs9P"
      },
      "execution_count": 7,
      "outputs": []
    },
    {
      "cell_type": "code",
      "source": [
        "# Splitting data into train and test sets\n",
        "train_data = supervised_data[:-12]\n",
        "test_data = supervised_data[-12:]"
      ],
      "metadata": {
        "id": "bBlzLBQovv7E"
      },
      "execution_count": 8,
      "outputs": []
    },
    {
      "cell_type": "code",
      "source": [
        "print(train_data)\n",
        "print(test_data)"
      ],
      "metadata": {
        "colab": {
          "base_uri": "https://localhost:8080/"
        },
        "id": "y-xyGoorvyDT",
        "outputId": "a480c2ad-1065-40c7-e321-aa77bf28e24f"
      },
      "execution_count": 9,
      "outputs": [
        {
          "output_type": "stream",
          "name": "stdout",
          "text": [
            "            sales_diff  sales_diff  sales_diff  sales_diff  sales_diff  \\\n",
            "date                                                                     \n",
            "2013-01-02         0.0         0.0         0.0         0.0         0.0   \n",
            "2013-01-03        -2.0         0.0         0.0         0.0         0.0   \n",
            "2013-01-04         3.0        -2.0         0.0         0.0         0.0   \n",
            "2013-01-05        -1.0         3.0        -2.0         0.0         0.0   \n",
            "2013-01-06        -3.0        -1.0         3.0        -2.0         0.0   \n",
            "...                ...         ...         ...         ...         ...   \n",
            "2014-02-02        15.0        -2.0         5.0        -2.0         3.0   \n",
            "2014-02-03         5.0        15.0        -2.0         5.0        -2.0   \n",
            "2014-02-04       -16.0         5.0        15.0        -2.0         5.0   \n",
            "2014-02-05         3.0       -16.0         5.0        15.0        -2.0   \n",
            "2014-02-06        -4.0         3.0       -16.0         5.0        15.0   \n",
            "\n",
            "            sales_diff  sales_diff  sales_diff  sales_diff  sales_diff  \\\n",
            "date                                                                     \n",
            "2013-01-02         0.0         0.0         0.0         0.0         0.0   \n",
            "2013-01-03         0.0         0.0         0.0         0.0         0.0   \n",
            "2013-01-04         0.0         0.0         0.0         0.0         0.0   \n",
            "2013-01-05         0.0         0.0         0.0         0.0         0.0   \n",
            "2013-01-06         0.0         0.0         0.0         0.0         0.0   \n",
            "...                ...         ...         ...         ...         ...   \n",
            "2014-02-02       -16.0        -5.0         5.0        -4.0        16.0   \n",
            "2014-02-03         3.0       -16.0        -5.0         5.0        -4.0   \n",
            "2014-02-04        -2.0         3.0       -16.0        -5.0         5.0   \n",
            "2014-02-05         5.0        -2.0         3.0       -16.0        -5.0   \n",
            "2014-02-06        -2.0         5.0        -2.0         3.0       -16.0   \n",
            "\n",
            "            sales_diff  sales_diff  sales_diff  \n",
            "date                                            \n",
            "2013-01-02         0.0         0.0        -2.0  \n",
            "2013-01-03         0.0         0.0         3.0  \n",
            "2013-01-04         0.0         0.0        -1.0  \n",
            "2013-01-05         0.0         0.0        -3.0  \n",
            "2013-01-06         0.0         0.0         2.0  \n",
            "...                ...         ...         ...  \n",
            "2014-02-02       -11.0        17.0         5.0  \n",
            "2014-02-03        16.0       -11.0       -16.0  \n",
            "2014-02-04        -4.0        16.0         3.0  \n",
            "2014-02-05         5.0        -4.0        -4.0  \n",
            "2014-02-06        -5.0         5.0         8.0  \n",
            "\n",
            "[500725 rows x 13 columns]\n",
            "            sales_diff  sales_diff  sales_diff  sales_diff  sales_diff  \\\n",
            "date                                                                     \n",
            "2014-02-07         8.0        -4.0         3.0       -16.0         5.0   \n",
            "2014-02-08        -3.0         8.0        -4.0         3.0       -16.0   \n",
            "2014-02-09         8.0        -3.0         8.0        -4.0         3.0   \n",
            "2014-02-10       -13.0         8.0        -3.0         8.0        -4.0   \n",
            "2014-02-11         1.0       -13.0         8.0        -3.0         8.0   \n",
            "2014-02-12         0.0         1.0       -13.0         8.0        -3.0   \n",
            "2014-02-13        11.0         0.0         1.0       -13.0         8.0   \n",
            "2014-02-14         7.0        11.0         0.0         1.0       -13.0   \n",
            "2014-02-15       -16.0         7.0        11.0         0.0         1.0   \n",
            "2014-02-16         5.0       -16.0         7.0        11.0         0.0   \n",
            "2014-02-17         9.0         5.0       -16.0         7.0        11.0   \n",
            "2014-02-18       -26.0         9.0         5.0       -16.0         7.0   \n",
            "\n",
            "            sales_diff  sales_diff  sales_diff  sales_diff  sales_diff  \\\n",
            "date                                                                     \n",
            "2014-02-07        15.0        -2.0         5.0        -2.0         3.0   \n",
            "2014-02-08         5.0        15.0        -2.0         5.0        -2.0   \n",
            "2014-02-09       -16.0         5.0        15.0        -2.0         5.0   \n",
            "2014-02-10         3.0       -16.0         5.0        15.0        -2.0   \n",
            "2014-02-11        -4.0         3.0       -16.0         5.0        15.0   \n",
            "2014-02-12         8.0        -4.0         3.0       -16.0         5.0   \n",
            "2014-02-13        -3.0         8.0        -4.0         3.0       -16.0   \n",
            "2014-02-14         8.0        -3.0         8.0        -4.0         3.0   \n",
            "2014-02-15       -13.0         8.0        -3.0         8.0        -4.0   \n",
            "2014-02-16         1.0       -13.0         8.0        -3.0         8.0   \n",
            "2014-02-17         0.0         1.0       -13.0         8.0        -3.0   \n",
            "2014-02-18        11.0         0.0         1.0       -13.0         8.0   \n",
            "\n",
            "            sales_diff  sales_diff  sales_diff  \n",
            "date                                            \n",
            "2014-02-07       -16.0        -5.0        -3.0  \n",
            "2014-02-08         3.0       -16.0         8.0  \n",
            "2014-02-09        -2.0         3.0       -13.0  \n",
            "2014-02-10         5.0        -2.0         1.0  \n",
            "2014-02-11        -2.0         5.0         0.0  \n",
            "2014-02-12        15.0        -2.0        11.0  \n",
            "2014-02-13         5.0        15.0         7.0  \n",
            "2014-02-14       -16.0         5.0       -16.0  \n",
            "2014-02-15         3.0       -16.0         5.0  \n",
            "2014-02-16        -4.0         3.0         9.0  \n",
            "2014-02-17         8.0        -4.0       -26.0  \n",
            "2014-02-18        -3.0         8.0         2.0  \n"
          ]
        }
      ]
    },
    {
      "cell_type": "code",
      "source": [
        "# Scaling features\n",
        "scaler = MinMaxScaler(feature_range=(-1, 1))\n",
        "scaler.fit(train_data)\n",
        "train_data = scaler.transform(train_data)\n",
        "test_data = scaler.transform(test_data)"
      ],
      "metadata": {
        "id": "NANtu1N6v0R_"
      },
      "execution_count": 10,
      "outputs": []
    },
    {
      "cell_type": "code",
      "source": [
        "print(train_data)\n",
        "print(test_data)"
      ],
      "metadata": {
        "colab": {
          "base_uri": "https://localhost:8080/"
        },
        "id": "IhdhbM95v3mN",
        "outputId": "b9c444f5-66c2-4406-8e1c-263001721702"
      },
      "execution_count": 11,
      "outputs": [
        {
          "output_type": "stream",
          "name": "stdout",
          "text": [
            "[[0.20670391 0.20670391 0.20670391 ... 0.20670391 0.20670391 0.18435754]\n",
            " [0.18435754 0.20670391 0.20670391 ... 0.20670391 0.20670391 0.24022346]\n",
            " [0.24022346 0.18435754 0.20670391 ... 0.20670391 0.20670391 0.19553073]\n",
            " ...\n",
            " [0.02793296 0.26256983 0.37430168 ... 0.16201117 0.38547486 0.24022346]\n",
            " [0.24022346 0.02793296 0.26256983 ... 0.26256983 0.16201117 0.16201117]\n",
            " [0.16201117 0.24022346 0.02793296 ... 0.15083799 0.26256983 0.29608939]]\n",
            "[[ 0.29608939  0.16201117  0.24022346  0.02793296  0.26256983  0.37430168\n",
            "   0.18435754  0.26256983  0.18435754  0.24022346  0.02793296  0.15083799\n",
            "   0.17318436]\n",
            " [ 0.17318436  0.29608939  0.16201117  0.24022346  0.02793296  0.26256983\n",
            "   0.37430168  0.18435754  0.26256983  0.18435754  0.24022346  0.02793296\n",
            "   0.29608939]\n",
            " [ 0.29608939  0.17318436  0.29608939  0.16201117  0.24022346  0.02793296\n",
            "   0.26256983  0.37430168  0.18435754  0.26256983  0.18435754  0.24022346\n",
            "   0.06145251]\n",
            " [ 0.06145251  0.29608939  0.17318436  0.29608939  0.16201117  0.24022346\n",
            "   0.02793296  0.26256983  0.37430168  0.18435754  0.26256983  0.18435754\n",
            "   0.21787709]\n",
            " [ 0.21787709  0.06145251  0.29608939  0.17318436  0.29608939  0.16201117\n",
            "   0.24022346  0.02793296  0.26256983  0.37430168  0.18435754  0.26256983\n",
            "   0.20670391]\n",
            " [ 0.20670391  0.21787709  0.06145251  0.29608939  0.17318436  0.29608939\n",
            "   0.16201117  0.24022346  0.02793296  0.26256983  0.37430168  0.18435754\n",
            "   0.32960894]\n",
            " [ 0.32960894  0.20670391  0.21787709  0.06145251  0.29608939  0.17318436\n",
            "   0.29608939  0.16201117  0.24022346  0.02793296  0.26256983  0.37430168\n",
            "   0.2849162 ]\n",
            " [ 0.2849162   0.32960894  0.20670391  0.21787709  0.06145251  0.29608939\n",
            "   0.17318436  0.29608939  0.16201117  0.24022346  0.02793296  0.26256983\n",
            "   0.02793296]\n",
            " [ 0.02793296  0.2849162   0.32960894  0.20670391  0.21787709  0.06145251\n",
            "   0.29608939  0.17318436  0.29608939  0.16201117  0.24022346  0.02793296\n",
            "   0.26256983]\n",
            " [ 0.26256983  0.02793296  0.2849162   0.32960894  0.20670391  0.21787709\n",
            "   0.06145251  0.29608939  0.17318436  0.29608939  0.16201117  0.24022346\n",
            "   0.30726257]\n",
            " [ 0.30726257  0.26256983  0.02793296  0.2849162   0.32960894  0.20670391\n",
            "   0.21787709  0.06145251  0.29608939  0.17318436  0.29608939  0.16201117\n",
            "  -0.08379888]\n",
            " [-0.08379888  0.30726257  0.26256983  0.02793296  0.2849162   0.32960894\n",
            "   0.20670391  0.21787709  0.06145251  0.29608939  0.17318436  0.29608939\n",
            "   0.22905028]]\n"
          ]
        }
      ]
    },
    {
      "cell_type": "code",
      "source": [
        "# Splitting data into input and output\n",
        "x_train, y_train = train_data[:, 1:], train_data[:, 0]\n",
        "x_test, y_test = test_data[:, 1:], test_data[:, 0]"
      ],
      "metadata": {
        "id": "8hzao259v6t-"
      },
      "execution_count": 12,
      "outputs": []
    },
    {
      "cell_type": "code",
      "source": [
        "# Reshape target data for compatibility\n",
        "y_train = y_train.reshape(-1, 1)\n",
        "y_test = y_test.reshape(-1, 1)"
      ],
      "metadata": {
        "id": "wispZlZ6v-T6"
      },
      "execution_count": 13,
      "outputs": []
    },
    {
      "cell_type": "code",
      "source": [
        "# Creating a DataFrame to store predictions\n",
        "sales_dates = data.index[-13:].to_series().reset_index(drop=True)\n",
        "predict_df = pd.DataFrame(sales_dates, columns=['date'])"
      ],
      "metadata": {
        "id": "r5rnPLWvwAGJ"
      },
      "execution_count": 14,
      "outputs": []
    },
    {
      "cell_type": "code",
      "source": [
        "# Actual sales for the last 13 months\n",
        "actual_sales = data['sales'].values[-13:]"
      ],
      "metadata": {
        "id": "vzGXff0hwCxF"
      },
      "execution_count": 15,
      "outputs": []
    },
    {
      "cell_type": "markdown",
      "source": [
        "Training Random Forest Regressor Model"
      ],
      "metadata": {
        "id": "uU_E2SrwwFb6"
      }
    },
    {
      "cell_type": "code",
      "source": [
        "# Train the Random Forest Regressor model\n",
        "rf_model = RandomForestRegressor(n_estimators=100, random_state=0)\n",
        "rf_model.fit(x_train, y_train.ravel())\n",
        "rf_predict = rf_model.predict(x_test)"
      ],
      "metadata": {
        "id": "f3ZuIuPBwEqo"
      },
      "execution_count": 16,
      "outputs": []
    },
    {
      "cell_type": "code",
      "source": [
        "# Inverse transform to original scale\n",
        "rf_predict = scaler.inverse_transform(np.concatenate((rf_predict.reshape(-1, 1), x_test), axis=1))[:, 0]\n"
      ],
      "metadata": {
        "id": "P4MkDJaswKVi"
      },
      "execution_count": 17,
      "outputs": []
    },
    {
      "cell_type": "code",
      "source": [
        "# Calculating predicted sales\n",
        "result_list = []\n",
        "for index in range(len(rf_predict)):\n",
        "    result_list.append(rf_predict[index] + actual_sales[index])\n",
        "\n",
        "rf_predict_series = pd.Series(result_list, name='rf_prediction')"
      ],
      "metadata": {
        "id": "MXS-vSbS6tkQ"
      },
      "execution_count": 18,
      "outputs": []
    },
    {
      "cell_type": "code",
      "source": [
        "# Merging with prediction DataFrame\n",
        "predict_df = predict_df.join(rf_predict_series)"
      ],
      "metadata": {
        "id": "vpZItvUx6waa"
      },
      "execution_count": 19,
      "outputs": []
    },
    {
      "cell_type": "code",
      "source": [
        "print(predict_df)"
      ],
      "metadata": {
        "colab": {
          "base_uri": "https://localhost:8080/"
        },
        "id": "H2a8Bo7y60nZ",
        "outputId": "55e069c3-0ede-4757-b41c-cba804a3d986"
      },
      "execution_count": 20,
      "outputs": [
        {
          "output_type": "stream",
          "name": "stdout",
          "text": [
            "         date  rf_prediction\n",
            "0  2014-02-06          59.68\n",
            "1  2014-02-07          46.99\n",
            "2  2014-02-08          67.62\n",
            "3  2014-02-09          35.94\n",
            "4  2014-02-10          43.17\n",
            "5  2014-02-11          37.58\n",
            "6  2014-02-12          54.46\n",
            "7  2014-02-13          66.41\n",
            "8  2014-02-14          38.20\n",
            "9  2014-02-15          51.21\n",
            "10 2014-02-16          75.02\n",
            "11 2014-02-17          26.23\n",
            "12 2014-02-18            NaN\n"
          ]
        }
      ]
    },
    {
      "cell_type": "markdown",
      "source": [
        "MODEL EVALUATION"
      ],
      "metadata": {
        "id": "sTDGszsc66wa"
      }
    },
    {
      "cell_type": "code",
      "source": [
        "# Model Evaluation\n",
        "'''\n",
        "rf_mse = np.sqrt(mean_squared_error(actual_sales[1:], rf_predict[:-1]))\n",
        "rf_mae = mean_absolute_error(actual_sales[1:], rf_predict[:-1])\n",
        "rf_r2 = r2_score(actual_sales[1:], rf_predict[:-1])\n",
        "\n",
        "print(f\"Random Forest MSE: {rf_mse}\")\n",
        "print(f\"Random Forest MAE: {rf_mae}\")\n",
        "print(f\"Random Forest R2 Score: {rf_r2}\")\n",
        "'''\n",
        "# Model Evaluation\n",
        "# Model Evaluation\n",
        "rf_mse = np.sqrt(mean_squared_error(actual_sales[-12:], rf_predict))\n",
        "rf_mae = mean_absolute_error(actual_sales[-12:], rf_predict)\n",
        "rf_r2 = r2_score(actual_sales[-12:], rf_predict)\n",
        "\n",
        "print(f\"Random Forest MSE: {rf_mse}\")\n",
        "print(f\"Random Forest MAE: {rf_mae}\")\n",
        "print(f\"Random Forest R2 Score: {rf_r2}\")\n"
      ],
      "metadata": {
        "colab": {
          "base_uri": "https://localhost:8080/"
        },
        "id": "B0GWOXy162t-",
        "outputId": "5fc77042-8dcc-4b58-e65e-b449e19651aa"
      },
      "execution_count": 24,
      "outputs": [
        {
          "output_type": "stream",
          "name": "stdout",
          "text": [
            "Random Forest MSE: 49.260779615565696\n",
            "Random Forest MAE: 47.54083333333333\n",
            "Random Forest R2 Score: -32.77151974485357\n"
          ]
        }
      ]
    },
    {
      "cell_type": "markdown",
      "source": [
        "Plotting actual sales vs predicted sales\n",
        "\n"
      ],
      "metadata": {
        "id": "Yq6RqLvk7g0Y"
      }
    },
    {
      "cell_type": "code",
      "source": [
        "# Plotting actual sales vs predicted sales\n",
        "plt.figure(figsize=(15, 5))\n",
        "plt.plot(data.index[-13:], actual_sales, label='Actual Sales')\n",
        "plt.plot(predict_df['date'], predict_df['rf_prediction'], label='Random Forest Predicted Sales', linestyle='--')\n",
        "plt.title('Actual Sales vs Predicted Sales using Random Forest')\n",
        "plt.xlabel('Date')\n",
        "plt.ylabel('Sales')\n",
        "plt.legend()\n",
        "plt.show()"
      ],
      "metadata": {
        "colab": {
          "base_uri": "https://localhost:8080/",
          "height": 442
        },
        "id": "GuDqSrWj68se",
        "outputId": "46ebf5de-05d7-47dd-c7c3-4a9fca8d0bc6"
      },
      "execution_count": 25,
      "outputs": [
        {
          "output_type": "display_data",
          "data": {
            "text/plain": [
              "<Figure size 1500x500 with 1 Axes>"
            ],
            "image/png": "[encoded data removed]"
          },
          "metadata": {}
        }
      ]
    },
    {
      "cell_type": "code",
      "source": [],
      "metadata": {
        "id": "Gw82tpFo7fKA"
      },
      "execution_count": null,
      "outputs": []
    }
  ]
}